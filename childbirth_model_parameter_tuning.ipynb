{
 "cells": [
  {
   "cell_type": "markdown",
   "id": "933a1ca3",
   "metadata": {},
   "source": [
    "## This notebook contains code to tune individual models"
   ]
  },
  {
   "cell_type": "code",
   "execution_count": null,
   "id": "87e85d26",
   "metadata": {},
   "outputs": [],
   "source": [
    "# it takes about 4000 to 10,000 seconds to find the optimal parameters for SGDRegressor\n",
    "def find_optimal_parameters_SGDRegressor(X_input_scaled, y):\n",
    "    start_time = time.time()\n",
    "    print(f\"Searching optimal parameters at {datetime.now()}\")\n",
    "\n",
    "    loss = ['squared_error', 'huber', 'epsilon_insensitive', 'squared_epsilon_insensitive'] \n",
    "    penalty = ['l1', 'l2', 'elasticnet'] \n",
    "    alpha = [0.0001, 0.001, 0.01, 0.1, 1, 10, 100, 1000] \n",
    "    learning_rate = ['constant', 'optimal', 'invscaling', 'adaptive'] \n",
    "    eta0 = [0.1, 1, 10, 100] \n",
    "    param_distributions = dict(loss=loss, penalty=penalty, alpha=alpha, learning_rate=learning_rate, eta0=eta0) \n",
    "    from sklearn.model_selection import RandomizedSearchCV \n",
    "    sgd = SGDRegressor()\n",
    "    random = RandomizedSearchCV(estimator=sgd, param_distributions=param_distributions, verbose=1, n_jobs=-1, n_iter=1000) \n",
    "    random_result = random.fit(X_input_scaled, y) \n",
    "\n",
    "    end_time = time.time()\n",
    "    print(f\"End time = {datetime.now()}, elapsed time = {end_time - start_time}\")\n",
    "\n",
    "    print(random_result.best_params_)\n",
    "\n",
    "find_optimal_parameters_SGDRegressor(X_train_age_scaled, y_train_age) \n",
    "    \n",
    "# weight {'penalty': 'l2', 'loss': 'squared_error', 'learning_rate': 'adaptive', 'eta0': 10, 'alpha': 0.01}\n",
    "# age {'penalty': 'l2', 'loss': 'squared_error', 'learning_rate': 'adaptive', 'eta0': 100, 'alpha': 0.001}\n"
   ]
  },
  {
   "cell_type": "code",
   "execution_count": null,
   "id": "7e7bd566",
   "metadata": {},
   "outputs": [],
   "source": [
    "# SVR is not accurate, even after tuning\n",
    "def find_optimal_parameters_SVR():\n",
    "    start_time = time.time()\n",
    "    print(f\"Searching optimal parameters at {datetime.now()}\")\n",
    "\n",
    "    parameters = {'kernel': ('linear', 'rbf','poly'), 'C':[1.5, 100],'gamma': [1e-7, 1e-4],\n",
    "                  'degree': [2, 5], 'epsilon': [0.1,0.3,0.5], 'coef0': [0, 1]}\n",
    "    svr = SVR()\n",
    "    clf = RandomizedSearchCV(svr, parameters, verbose=2)\n",
    "    clf.fit(X_train_from_file, y_train_weight)\n",
    "    print(clf.best_params_)\n",
    "\n",
    "    end_time = time.time()\n",
    "    print(f\"End time = {datetime.now()}, elapsed time = {end_time - start_time}\")\n",
    "\n",
    "    '''{'kernel': 'linear', 'gamma': 1e-07, 'epsilon': 0.1, 'degree': 2, 'coef0': 1, 'C': 100}'''\n"
   ]
  },
  {
   "cell_type": "code",
   "execution_count": 1,
   "id": "5ad2d907",
   "metadata": {},
   "outputs": [],
   "source": [
    "# https://towardsdatascience.com/hyperparameter-tuning-the-random-forest-in-python-using-scikit-learn-28d2aa77dd74\n",
    "def find_optimal_random_forest_parameters(X_input_scaled, y):\n",
    "    \n",
    "    start_time = time.time()\n",
    "    print(f\"Searching optimal parameters at {datetime.now()}\")\n",
    "\n",
    "    # Number of trees in random forest\n",
    "    n_estimators = [100, 400, 800]\n",
    "    # Number of features to consider at every split\n",
    "    # max_features = ['auto', 'sqrt'] # auto is deprecated\n",
    "    # Maximum number of levels in tree\n",
    "    max_depth = [10, 50, 100]\n",
    "    # max_depth.append(None)\n",
    "    # Minimum number of samples required to split a node\n",
    "    min_samples_split = [2, 5, 10]\n",
    "    # Minimum number of samples required at each leaf node\n",
    "    min_samples_leaf = [1, 2, 4]\n",
    "    # Method of selecting samples for training each tree\n",
    "    bootstrap = [True, False]\n",
    "    # Create the random grid\n",
    "    random_grid = {'n_estimators': n_estimators,\n",
    "                   'max_depth': max_depth,\n",
    "                   'min_samples_split': min_samples_split,\n",
    "                   'min_samples_leaf': min_samples_leaf}\n",
    "    print(random_grid)\n",
    "\n",
    "    # Use the random grid to search for best hyperparameters\n",
    "    # First create the base model to tune\n",
    "    rf = RandomForestRegressor()\n",
    "    # Random search of parameters, using 3 fold cross validation, \n",
    "    # search across 100 different combinations, and use all available cores\n",
    "    rf_random = RandomizedSearchCV(estimator = rf, param_distributions = random_grid, n_iter = 100, cv = 3, verbose=2, random_state=42, n_jobs = -1)\n",
    "    # Fit the random search model\n",
    "    rf_random.fit(X_input_scaled, y)\n",
    "\n",
    "    end_time = time.time()\n",
    "    print(f\"End time = {datetime.now()}, elapsed time = {end_time - start_time}\")\n",
    "\n",
    "    print(rf_random.best_params_)\n",
    "\n",
    "\n",
    "find_optimal_random_forest_parameters(X_train_age_scaled, y_train_age) \n",
    "''' age\n",
    "{'n_estimators': 800, 'min_samples_split': 5, 'min_samples_leaf': 2, 'max_features': 'auto', 'max_depth': 50}\n",
    "'''\n"
   ]
  },
  {
   "cell_type": "code",
   "execution_count": null,
   "id": "c79a954d",
   "metadata": {},
   "outputs": [],
   "source": []
  }
 ],
 "metadata": {
  "kernelspec": {
   "display_name": "Python 3 (ipykernel)",
   "language": "python",
   "name": "python3"
  },
  "language_info": {
   "codemirror_mode": {
    "name": "ipython",
    "version": 3
   },
   "file_extension": ".py",
   "mimetype": "text/x-python",
   "name": "python",
   "nbconvert_exporter": "python",
   "pygments_lexer": "ipython3",
   "version": "3.8.5"
  }
 },
 "nbformat": 4,
 "nbformat_minor": 5
}

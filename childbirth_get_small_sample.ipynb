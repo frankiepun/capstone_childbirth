{
 "cells": [
  {
   "cell_type": "code",
   "execution_count": 60,
   "id": "14fffb57",
   "metadata": {},
   "outputs": [],
   "source": [
    "# this program get a small sample from the CDC birth date (over 3 million rows)\n",
    "# it reads Nat2021US.txt and generate a small sample file Nat2021_small_XXXXX.txt\n",
    "\n",
    "import numpy as np\n",
    "\n",
    "total_record_size_nat2021us = 3669927\n",
    "original_file_location = 'Nat2021us/Nat2021us.txt'\n",
    "\n",
    "def get_small_random_sample(sample_size=30000):\n",
    "    np.random.seed(seed=5)\n",
    "\n",
    "    # randomly select about 30K out of 3million. \n",
    "    # use round() to round to integer, use unique() to get only unique values\n",
    "    random_index = np.sort(np.unique(np.round(np.random.sample(sample_size) * (total_record_size_nat2021us-1))))\n",
    "    print(random_index.shape)\n",
    "    print(random_index)\n",
    "\n",
    "    with open(f'Nat2021us/Nat2021us_small_{sample_size}.txt','w') as outfile:\n",
    "        with open(original_file_location) as infile:\n",
    "            for i, line in enumerate(infile):\n",
    "                if i in random_index:\n",
    "                    outfile.write(line)\n",
    "                #if i>3000:\n",
    "                #    break;\n",
    "\n",
    "    print(f\"The total number of lines in Nat2021us.txt is {i}\")\n"
   ]
  },
  {
   "cell_type": "code",
   "execution_count": 61,
   "id": "ee585509",
   "metadata": {},
   "outputs": [
    {
     "name": "stdout",
     "output_type": "stream",
     "text": [
      "(2,)\n",
      "[ 814699. 3195523.]\n",
      "The total number of lines in Nat2021us.txt is 3001\n",
      "--- 0.031035184860229492 seconds ---\n"
     ]
    }
   ],
   "source": [
    "import time\n",
    "start_time = time.time()\n",
    "get_small_random_sample(200000)\n",
    "print(\"--- %s seconds ---\" % (time.time() - start_time))\n"
   ]
  },
  {
   "cell_type": "code",
   "execution_count": null,
   "id": "9c5ea9b8",
   "metadata": {},
   "outputs": [],
   "source": []
  },
  {
   "cell_type": "code",
   "execution_count": null,
   "id": "e0b0a01b",
   "metadata": {},
   "outputs": [],
   "source": []
  }
 ],
 "metadata": {
  "kernelspec": {
   "display_name": "Python 3 (ipykernel)",
   "language": "python",
   "name": "python3"
  },
  "language_info": {
   "codemirror_mode": {
    "name": "ipython",
    "version": 3
   },
   "file_extension": ".py",
   "mimetype": "text/x-python",
   "name": "python",
   "nbconvert_exporter": "python",
   "pygments_lexer": "ipython3",
   "version": "3.8.5"
  }
 },
 "nbformat": 4,
 "nbformat_minor": 5
}
